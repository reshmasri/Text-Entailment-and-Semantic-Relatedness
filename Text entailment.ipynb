{
 "cells": [
  {
   "cell_type": "code",
   "execution_count": 0,
   "metadata": {
    "colab": {},
    "colab_type": "code",
    "id": "L_XghGmTyrdr"
   },
   "outputs": [],
   "source": [
    "##Install Pre trained pytorch bert model\n",
    "\n",
    "!pip install pytorch-pretrained-bert"
   ]
  },
  {
   "cell_type": "code",
   "execution_count": 0,
   "metadata": {
    "colab": {},
    "colab_type": "code",
    "id": "wdXnipnJumRI"
   },
   "outputs": [],
   "source": [
    "import pandas as pd\n",
    "import numpy as np\n",
    "import matplotlib.pyplot as plt\n",
    "\n",
    "import torch\n",
    "import torchvision\n",
    "import torch.nn as nn\n",
    "import torch.nn.functional as F\n",
    "import torch.optim as optim\n",
    "from torch.utils.data import DataLoader, Dataset\n",
    "from torchvision import transforms\n",
    "from torch.autograd import Variable\n",
    "import torch.utils.data as data\n",
    "from pytorch_pretrained_bert import BertTokenizer, BertModel, BertForMaskedLM\n",
    "\n",
    "import logging\n",
    "import urllib\n",
    "import sys\n",
    "import os\n",
    "import zipfile\n",
    "from os.path import join, exists\n",
    "\n"
   ]
  },
  {
   "cell_type": "code",
   "execution_count": 0,
   "metadata": {
    "colab": {},
    "colab_type": "code",
    "id": "ntR83763vAXT"
   },
   "outputs": [],
   "source": [
    "## Helper functions\n",
    "\n",
    "def readData(file):\n",
    "    data = pd.read_csv(file, delimiter='\\t', header = None, skiprows=1)\n",
    "    data.columns = [\"pair_ID\", \"sentence_A\", \"sentence_B\", \"relatedness_score\", \"entailment_judgment\"]\n",
    "    return data\n",
    "\n",
    "def column_values_tolist(output_list,df,col_name):\n",
    "  for i in range(len(df)):\n",
    "    output_list.append(df[col_name][i])\n",
    "  return output_list\n",
    "\n",
    "def encode_class_labels(ColumnAsList):\n",
    "  for i in range(len(ColumnAsList)):\n",
    "    if ColumnAsList[i] == 'CONTRADICTION':\n",
    "      ColumnAsList [i] = 0\n",
    "    elif ColumnAsList [i] == 'NEUTRAL':\n",
    "      ColumnAsList [i] = 1\n",
    "    elif ColumnAsList [i] == \"ENTAILMENT\":\n",
    "      ColumnAsList [i] = 2\n",
    "    else:\n",
    "      pass\n",
    "  return ColumnAsList\n",
    "\n",
    "def decode_class_labels(ColumnAsList):\n",
    "  for i in range(len(ColumnAsList)):\n",
    "    if ColumnAsList[i] == 0:\n",
    "      ColumnAsList [i] = 'CONTRADICTION'\n",
    "    elif ColumnAsList [i] == 1:\n",
    "      ColumnAsList [i] = 'NEUTRAL'\n",
    "    elif ColumnAsList [i] == 2:\n",
    "      ColumnAsList [i] = \"ENTAILMENT\"\n",
    "    else:\n",
    "      pass\n",
    "  return ColumnAsList\n",
    "\n",
    "def get_sent_em(sentence):\n",
    "  text = sentence\n",
    "  # Add the special tokens.\n",
    "  marked_text = \"[CLS] \" + text + \" [SEP]\"\n",
    "  # Split the sentence into tokens.\n",
    "  tokenized_text = tokenizer.tokenize(marked_text)\n",
    "  # Map the token strings to their vocabulary indeces.\n",
    "  indexed_tokens = tokenizer.convert_tokens_to_ids(tokenized_text)\n",
    "  segments_ids = [1] * len(tokenized_text)\n",
    "  tokens_tensor = torch.tensor([indexed_tokens])\n",
    "  segments_tensors = torch.tensor([segments_ids])\n",
    "  with torch.no_grad():\n",
    "    encoded_layers, _ = model(tokens_tensor, segments_tensors)\n",
    "  token_embeddings = torch.stack(encoded_layers, dim=0)\n",
    "  token_embeddings = torch.squeeze(token_embeddings, dim=1)\n",
    "  token_embeddings = token_embeddings.permute(1,0,2)\n",
    "  token_vecs = encoded_layers[11][0]\n",
    "  sentence_embedding = torch.mean(token_vecs, dim=0)\n",
    "  return(sentence_embedding)\n",
    "\n",
    "\n",
    "def get_bert_mean_pool(list_of_sentences):\n",
    "  #passing list of sentences to this function\n",
    "  output = list(map(get_sent_em,list_of_sentences))\n",
    "\n",
    "  ## returns output which is list of tensors which are bert sentences embeddings with Mean pooling over bert word embeddings\n",
    "  return output\n",
    "\n",
    "\n",
    "def absolute_listoflists(u,v):\n",
    "\n",
    "  ##returns abs value of u,v |u-v| where u, v are list of lists\n",
    "  assert len(u) == len(v)\n",
    "  inter_list = []\n",
    "  final_list = []\n",
    "  for i in range(len(u)):\n",
    "    for j in range(len(u[0])):\n",
    "      inter_list.append(abs(u[i][j]-v[i][j]))\n",
    "    final_list.append(inter_list)\n",
    "    inter_list = []\n",
    "  return final_list\n",
    "\n",
    "\n",
    "\n",
    "def final_embedding(u,v,auv):\n",
    "  ## returns concatenated final embeddings [u,v,|u-v|]\n",
    "  temp = u\n",
    "  for i in range(len(u)):\n",
    "    temp[i].extend(v[i])\n",
    "    temp[i].extend(auv[i])\n",
    "\n",
    "  return temp\n"
   ]
  },
  {
   "cell_type": "code",
   "execution_count": 0,
   "metadata": {
    "colab": {},
    "colab_type": "code",
    "id": "0AaC4vmuyQyZ"
   },
   "outputs": [],
   "source": [
    "def get_sbert_embeddings(dataframe):\n",
    "\n",
    "  sentence_A_list = []\n",
    "\n",
    "  sentence_A_list = column_values_tolist(sentence_A_list,dataframe,\"sentence_A\")\n",
    "\n",
    "  sentence_B_list = []\n",
    "\n",
    "  sentence_B_list = column_values_tolist(sentence_B_list,dataframe,\"sentence_B\")\n",
    "\n",
    "\n",
    "## getting mean pool sentence embeddings from bert word embeddings\n",
    "\n",
    "  sentence_A_meanpool_embedding = get_bert_mean_pool(sentence_A_list)\n",
    "\n",
    "  sentence_B_meanpool_embedding = get_bert_mean_pool(sentence_B_list)\n",
    "\n",
    "##output from above function is list of tensors and convertin them to list\n",
    "\n",
    "  sent_A_list = [sentence_A_meanpool_embedding[i].tolist()  for i in range(len(sentence_A_meanpool_embedding))]\n",
    "\n",
    "  sent_B_list = [sentence_B_meanpool_embedding[i].tolist()  for i in range(len(sentence_B_meanpool_embedding))]\n",
    "\n",
    "##To get |u-v| for all the sentence embeddings in the list\n",
    "\n",
    "  absoflists = absolute_listoflists(sent_A_list,sent_B_list)\n",
    "\n",
    "##Final siamese network sentence embeddings (u,v,|u-v|)\n",
    "\n",
    "  final_sent_embedding = final_embedding(sent_A_list,sent_B_list,absoflists)\n",
    "\n",
    "  return final_sent_embedding\n",
    "\n",
    "\n",
    "\n",
    "def df_for_task1(embeddings_list,dataframe):\n",
    "\n",
    "  labels = []\n",
    "  labels = column_values_tolist(labels,dataframe,\"entailment_judgment\")\n",
    "\n",
    "  labels_list = encode_class_labels(labels)\n",
    "\n",
    "  task1_df = pd.DataFrame.from_records(embeddings_list)\n",
    "\n",
    "  task1_df.insert(2304,column='Outcome',value=labels_list)\n",
    "\n",
    "  ## 0 for C , 1 for N and 2 for E\n",
    "\n",
    "  return task1_df"
   ]
  },
  {
   "cell_type": "code",
   "execution_count": 0,
   "metadata": {
    "colab": {},
    "colab_type": "code",
    "id": "xHS0wIFA_L4r"
   },
   "outputs": [],
   "source": [
    "##Dataset Class extends Pytorch inbuilt Dataset Class\n",
    "\n",
    "\n",
    "class Arizona(Dataset):\n",
    "  def __init__(self, file_path, transform=None):\n",
    "        self.data = file_path\n",
    "        self.transform = transform\n",
    "        self.targets = [a for a in self.data.iloc[:,2304]]\n",
    "        \n",
    "  def __len__(self):\n",
    "    return len(self.data)\n",
    "    \n",
    "  def __getitem__(self, index):\n",
    "    sample = self.data.iloc[index, :-1].values.reshape((1,2304))\n",
    "    label = self.targets[index]\n",
    "        \n",
    "    if self.transform is not None:\n",
    "      sample = self.transform(sample)\n",
    "            \n",
    "    return sample,label"
   ]
  },
  {
   "cell_type": "code",
   "execution_count": 0,
   "metadata": {
    "colab": {},
    "colab_type": "code",
    "id": "mQNfGw_aAXrJ"
   },
   "outputs": [],
   "source": [
    "## Neural Network architecture is named Network and this extends Pytorch inbuit nn.Module class\n",
    "\n",
    "class Network(nn.Module):\n",
    "  def __init__(self):\n",
    "    super(Network,self).__init__()\n",
    "    self.out = nn.Linear(in_features=2304,out_features=3)\n",
    "\n",
    "  def forward(self,t):\n",
    "    #implement forward pass method\n",
    "    t = t\n",
    "    t = t.reshape(-1, 2304) ##dont think this is necessary recheck\n",
    "    t = self.out(t)\n",
    "    return t"
   ]
  },
  {
   "cell_type": "code",
   "execution_count": 0,
   "metadata": {
    "colab": {},
    "colab_type": "code",
    "id": "dzWCr-5FDCOd"
   },
   "outputs": [],
   "source": [
    "#Load pre-trained model tokenizer\n",
    "tokenizer = BertTokenizer.from_pretrained('bert-base-uncased')\n",
    "\n",
    "# Load pre-trained model (weights)\n",
    "model = BertModel.from_pretrained('bert-base-uncased')\n",
    "\n",
    "# Put the model in \"evaluation\" mode, meaning feed-forward operation.\n",
    "model.eval()"
   ]
  },
  {
   "cell_type": "code",
   "execution_count": 0,
   "metadata": {
    "colab": {},
    "colab_type": "code",
    "id": "4COemjPh7Utq"
   },
   "outputs": [],
   "source": [
    "train_data = \"http://www.site.uottawa.ca/~diana/csi5386/A2_2020/SICK_train.txt\"\n",
    "test_data =\"http://www.site.uottawa.ca/~diana/csi5386/A2_2020/SICK_test_annotated.txt\"\n",
    "validation_data =\"http://www.site.uottawa.ca/~diana/csi5386/A2_2020/SICK_trial.txt\"\n",
    "\n",
    "\n",
    "## Using helper function read_data to fetch dataset from link specified\n",
    "\n",
    "train = readData(train_data)\n",
    "validation = readData(validation_data)\n",
    "test = readData(test_data)"
   ]
  },
  {
   "cell_type": "code",
   "execution_count": 0,
   "metadata": {
    "colab": {},
    "colab_type": "code",
    "id": "OUpA79cVCypr"
   },
   "outputs": [],
   "source": [
    "##get Siamese network final embeddings and make a dataframe out of that embeddings\n",
    "\n",
    "##Train\n",
    "\n",
    "final_sent_embeddings = get_sbert_embeddings(train)\n",
    "\n",
    "train_df = df_for_task1(final_sent_embedding,train)\n",
    "\n",
    "##Validation\n",
    "\n",
    "final_sent_embedding_val = get_sbert_embeddings(validation)\n",
    "\n",
    "val_df = df_for_task1(final_sent_embedding_val,validation)\n",
    "\n",
    "## TEST\n",
    "\n",
    "final_sent_embedding_test = get_sbert_embeddings(test)\n",
    "\n",
    "test_df = df_for_task1(final_sent_embedding_test,test)\n",
    "\n",
    "## Torch Datasets,Dataloader formats of train,test and validation sets\n",
    "\n",
    "## Train\n",
    "\n",
    "train_dataset = Arizona(train_df,transform=torchvision.transforms.ToTensor())\n",
    "\n",
    "train_loader = torch.utils.data.DataLoader(train_dataset,batch_size=300)\n",
    "\n",
    "## Complete train set loader\n",
    "\n",
    "total_train_loader = torch.utils.data.DataLoader(train_dataset,batch_size=4500)\n",
    "\n",
    "##Validation\n",
    "\n",
    "val_dataset = Arizona(val_df,transform=torchvision.transforms.ToTensor())\n",
    "\n",
    "val_loader = torch.utils.data.DataLoader(val_dataset,batch_size=500)\n",
    "\n",
    "#Test\n",
    "\n",
    "test_dataset = Arizona(test_df,transform=torchvision.transforms.ToTensor())\n",
    "\n",
    "test_loader = torch.utils.data.DataLoader(test_dataset,batch_size=4927)\n",
    "\n"
   ]
  },
  {
   "cell_type": "markdown",
   "metadata": {
    "colab_type": "text",
    "id": "cQ4d8FmTeP1Z"
   },
   "source": [
    "MODEL : 1 \n",
    "Batch_Size : 300 , optimizer : Adam , learning rate = 0.01 , Epochs : 15"
   ]
  },
  {
   "cell_type": "code",
   "execution_count": 0,
   "metadata": {
    "colab": {},
    "colab_type": "code",
    "id": "OTF_vMvWGwmI"
   },
   "outputs": [],
   "source": [
    "##Creating an instance of Network class which is our model here\n",
    "\n",
    "## BS : 300 , optimizer : Adam , learning rate = 0.01 , Epochs : 15\n",
    "\n",
    "variant = Network()"
   ]
  },
  {
   "cell_type": "code",
   "execution_count": 0,
   "metadata": {
    "colab": {
     "base_uri": "https://localhost:8080/",
     "height": 136
    },
    "colab_type": "code",
    "id": "SnYbms1rHLtG",
    "outputId": "b17573b0-5038-40de-b55a-1612848504ae"
   },
   "outputs": [
    {
     "data": {
      "text/plain": [
       "Parameter containing:\n",
       "tensor([[-1.7765e-02,  1.5199e-02, -5.9272e-03,  ..., -2.1108e-03,\n",
       "          5.2874e-04, -4.7907e-05],\n",
       "        [ 9.2264e-03, -9.1785e-03, -2.7190e-03,  ...,  1.0193e-02,\n",
       "         -7.9999e-03,  1.9330e-02],\n",
       "        [ 2.0256e-02, -1.0859e-02, -2.1908e-04,  ..., -1.5534e-02,\n",
       "         -1.6485e-03,  1.6850e-02]], requires_grad=True)"
      ]
     },
     "execution_count": 26,
     "metadata": {
      "tags": []
     },
     "output_type": "execute_result"
    }
   ],
   "source": [
    "## Initial Weights\n",
    "\n",
    "variant.out.weight"
   ]
  },
  {
   "cell_type": "code",
   "execution_count": 0,
   "metadata": {
    "colab": {},
    "colab_type": "code",
    "id": "Lyci49c5H1pB"
   },
   "outputs": [],
   "source": [
    "## Creating an optimizer instance and passing it the learning rate\n",
    "\n",
    "optimizer = optim.Adam(variant.parameters(),lr=0.01)"
   ]
  },
  {
   "cell_type": "code",
   "execution_count": 0,
   "metadata": {
    "colab": {
     "base_uri": "https://localhost:8080/",
     "height": 1000
    },
    "colab_type": "code",
    "id": "IDspP02xH8JG",
    "outputId": "299d7467-55ba-4afe-c045-59622aa95b81"
   },
   "outputs": [
    {
     "name": "stdout",
     "output_type": "stream",
     "text": [
      "saved model now\n",
      "epoch:  0 loss:  13.213411569595337\n",
      "epoch:  0 loss_val:  0.890512228012085\n",
      "epoch:  0 train_accuracy:  0.7666666666666667\n",
      "epoch:  0 val_accuracy:  0.65\n",
      "epoch:  1 loss:  10.638350903987885\n",
      "epoch:  1 loss_val:  1.266083836555481\n",
      "epoch:  1 train_accuracy:  0.7633333333333333\n",
      "epoch:  1 val_accuracy:  0.614\n",
      "epoch:  2 loss:  11.693186819553375\n",
      "epoch:  2 loss_val:  0.990885317325592\n",
      "epoch:  2 train_accuracy:  0.7833333333333333\n",
      "epoch:  2 val_accuracy:  0.644\n",
      "saved model now\n",
      "epoch:  3 loss:  10.02355346083641\n",
      "epoch:  3 loss_val:  0.755164384841919\n",
      "epoch:  3 train_accuracy:  0.7866666666666666\n",
      "epoch:  3 val_accuracy:  0.674\n",
      "saved model now\n",
      "epoch:  4 loss:  8.37997379899025\n",
      "epoch:  4 loss_val:  0.6751585006713867\n",
      "epoch:  4 train_accuracy:  0.82\n",
      "epoch:  4 val_accuracy:  0.692\n",
      "saved model now\n",
      "epoch:  5 loss:  7.737139940261841\n",
      "epoch:  5 loss_val:  0.6452306509017944\n",
      "epoch:  5 train_accuracy:  0.8266666666666667\n",
      "epoch:  5 val_accuracy:  0.708\n",
      "saved model now\n",
      "epoch:  6 loss:  7.403574526309967\n",
      "epoch:  6 loss_val:  0.6192651391029358\n",
      "epoch:  6 train_accuracy:  0.8333333333333334\n",
      "epoch:  6 val_accuracy:  0.714\n",
      "epoch:  7 loss:  7.13863942027092\n",
      "epoch:  7 loss_val:  0.6080256104469299\n",
      "epoch:  7 train_accuracy:  0.8366666666666667\n",
      "epoch:  7 val_accuracy:  0.714\n",
      "epoch:  8 loss:  6.944070100784302\n",
      "epoch:  8 loss_val:  0.604326605796814\n",
      "epoch:  8 train_accuracy:  0.8466666666666667\n",
      "epoch:  8 val_accuracy:  0.714\n",
      "epoch:  9 loss:  6.7756065130233765\n",
      "epoch:  9 loss_val:  0.6041116714477539\n",
      "epoch:  9 train_accuracy:  0.8566666666666667\n",
      "epoch:  9 val_accuracy:  0.706\n",
      "epoch:  10 loss:  6.628963440656662\n",
      "epoch:  10 loss_val:  0.6075960397720337\n",
      "epoch:  10 train_accuracy:  0.8533333333333334\n",
      "epoch:  10 val_accuracy:  0.714\n",
      "saved model now\n",
      "epoch:  11 loss:  6.50537896156311\n",
      "epoch:  11 loss_val:  0.6143556833267212\n",
      "epoch:  11 train_accuracy:  0.8566666666666667\n",
      "epoch:  11 val_accuracy:  0.716\n",
      "epoch:  12 loss:  6.401581734418869\n",
      "epoch:  12 loss_val:  0.6253579258918762\n",
      "epoch:  12 train_accuracy:  0.86\n",
      "epoch:  12 val_accuracy:  0.716\n",
      "epoch:  13 loss:  6.319127380847931\n",
      "epoch:  13 loss_val:  0.6414942145347595\n",
      "epoch:  13 train_accuracy:  0.86\n",
      "epoch:  13 val_accuracy:  0.714\n",
      "epoch:  14 loss:  6.260223627090454\n",
      "epoch:  14 loss_val:  0.664393424987793\n",
      "epoch:  14 train_accuracy:  0.8666666666666667\n",
      "epoch:  14 val_accuracy:  0.706\n"
     ]
    }
   ],
   "source": [
    "## Training and storing the model which performed the best on validation set\n",
    "\n",
    "## Storing loss and accuracy to plot corresponding graphs\n",
    "\n",
    "\n",
    "for batch_val in val_loader:\n",
    "  images_val,labels_val = batch_val\n",
    "\n",
    "for batch_test in test_loader:\n",
    "  images_test,labels_test = batch_test\n",
    "\n",
    "for batch_total in total_train_loader:\n",
    "  images_total,labels_total = batch_total\n",
    "\n",
    "train_loss = []\n",
    "val_loss = []\n",
    "train_accuracy = []\n",
    "val_accuracy = []\n",
    "max_acc_val = 0\n",
    "for epoch in range(15):\n",
    "  total_loss = 0\n",
    "  loss_val = 0\n",
    "  for batch in train_loader:\n",
    "    images,labels = batch\n",
    "    preds = variant(images.float())\n",
    "\n",
    "    loss = F.cross_entropy(preds,labels)\n",
    "    \n",
    "\n",
    "    optimizer.zero_grad()\n",
    "\n",
    "    loss.backward()\n",
    "    optimizer.step()\n",
    "\n",
    "    total_loss += loss.item()\n",
    "  preds_val = variant(images_val.float())\n",
    "  loss_val = F.cross_entropy(preds_val,labels_val)\n",
    "  loss_val = loss_val.item()\n",
    "  train_loss.append(total_loss)\n",
    "  val_loss.append(loss_val)\n",
    "  train_acc = preds.argmax(dim=1).eq(labels).sum().item()/len(images)\n",
    "  train_accuracy.append(train_acc)\n",
    "  val_acc = preds_val.argmax(dim=1).eq(labels_val).sum().item()/len(images_val)\n",
    "  val_accuracy.append(val_acc)\n",
    "  if val_acc > max_acc_val:\n",
    "    max_acc_val = val_acc\n",
    "    torch.save(variant.state_dict(), \"/content/best_variant_model.pt\")\n",
    "    print(\"saved model now\")\n",
    "  print(\"epoch: \",epoch , \"loss: \",total_loss)\n",
    "  print(\"epoch: \",epoch , \"loss_val: \",loss_val)\n",
    "  print(\"epoch: \",epoch , \"train_accuracy: \",train_acc)\n",
    "  print(\"epoch: \",epoch , \"val_accuracy: \",val_acc)"
   ]
  },
  {
   "cell_type": "code",
   "execution_count": 0,
   "metadata": {
    "colab": {
     "base_uri": "https://localhost:8080/",
     "height": 272
    },
    "colab_type": "code",
    "id": "x0EzkgHYy96K",
    "outputId": "18596c72-808d-4039-8c20-c58a73a976a9"
   },
   "outputs": [
    {
     "data": {
      "text/plain": [
       "[0.65,\n",
       " 0.614,\n",
       " 0.644,\n",
       " 0.674,\n",
       " 0.692,\n",
       " 0.708,\n",
       " 0.714,\n",
       " 0.714,\n",
       " 0.714,\n",
       " 0.706,\n",
       " 0.714,\n",
       " 0.716,\n",
       " 0.716,\n",
       " 0.714,\n",
       " 0.706]"
      ]
     },
     "execution_count": 46,
     "metadata": {
      "tags": []
     },
     "output_type": "execute_result"
    }
   ],
   "source": [
    "## Validation accuracy list containing epoch number of items\n",
    "\n",
    "val_accuracy"
   ]
  },
  {
   "cell_type": "code",
   "execution_count": 0,
   "metadata": {
    "colab": {
     "base_uri": "https://localhost:8080/",
     "height": 187
    },
    "colab_type": "code",
    "id": "t4hJ8dCZvzkr",
    "outputId": "ea6f94da-c900-4b27-d7a8-637878bd69f1"
   },
   "outputs": [
    {
     "name": "stdout",
     "output_type": "stream",
     "text": [
      "               precision    recall  f1-score   support\n",
      "\n",
      "CONTRADICTION       1.00      0.85      0.92        20\n",
      "      NEUTRAL       0.92      0.90      0.91       224\n",
      "   ENTAILMENT       0.65      0.75      0.69        56\n",
      "\n",
      "     accuracy                           0.87       300\n",
      "    macro avg       0.86      0.83      0.84       300\n",
      " weighted avg       0.88      0.87      0.87       300\n",
      "\n"
     ]
    }
   ],
   "source": [
    "## Classification Report for a single batch of samples from train set\n",
    "\n",
    "from sklearn.metrics import classification_report\n",
    "target_names = ['CONTRADICTION', 'NEUTRAL', 'ENTAILMENT']\n",
    "print(classification_report(labels.numpy(),preds.argmax(dim=1).numpy(), target_names=target_names))"
   ]
  },
  {
   "cell_type": "code",
   "execution_count": 0,
   "metadata": {
    "colab": {
     "base_uri": "https://localhost:8080/",
     "height": 187
    },
    "colab_type": "code",
    "id": "zoKkkzQYwjsd",
    "outputId": "6ff7f7f8-f839-46e9-8f36-c505f6578832"
   },
   "outputs": [
    {
     "name": "stdout",
     "output_type": "stream",
     "text": [
      "               precision    recall  f1-score   support\n",
      "\n",
      "CONTRADICTION       0.91      0.28      0.43        74\n",
      "      NEUTRAL       0.70      0.90      0.78       282\n",
      "   ENTAILMENT       0.70      0.55      0.61       144\n",
      "\n",
      "     accuracy                           0.71       500\n",
      "    macro avg       0.77      0.58      0.61       500\n",
      " weighted avg       0.73      0.71      0.68       500\n",
      "\n"
     ]
    }
   ],
   "source": [
    "## Classification Report of Validation Set \n",
    "\n",
    "from sklearn.metrics import classification_report\n",
    "target_names = ['CONTRADICTION', 'NEUTRAL', 'ENTAILMENT']\n",
    "print(classification_report(labels_val.numpy(),preds_val.argmax(dim=1).numpy(), target_names=target_names))"
   ]
  },
  {
   "cell_type": "code",
   "execution_count": 0,
   "metadata": {
    "colab": {},
    "colab_type": "code",
    "id": "gTmTuwnuw74r"
   },
   "outputs": [],
   "source": [
    "## Passing complete train loader to the model for train predictions\n",
    "\n",
    "preds_total = variant(images_total.float())"
   ]
  },
  {
   "cell_type": "code",
   "execution_count": 0,
   "metadata": {
    "colab": {
     "base_uri": "https://localhost:8080/",
     "height": 187
    },
    "colab_type": "code",
    "id": "RwDBPvX1wwKE",
    "outputId": "032e5012-583a-4209-c53c-c3310e7771dd"
   },
   "outputs": [
    {
     "name": "stdout",
     "output_type": "stream",
     "text": [
      "               precision    recall  f1-score   support\n",
      "\n",
      "CONTRADICTION       0.99      0.48      0.65       665\n",
      "      NEUTRAL       0.76      0.92      0.83      2536\n",
      "   ENTAILMENT       0.79      0.66      0.72      1299\n",
      "\n",
      "     accuracy                           0.78      4500\n",
      "    macro avg       0.85      0.69      0.73      4500\n",
      " weighted avg       0.80      0.78      0.77      4500\n",
      "\n"
     ]
    }
   ],
   "source": [
    "## Classification Report for Complete Train set\n",
    "\n",
    "from sklearn.metrics import classification_report\n",
    "target_names = ['CONTRADICTION', 'NEUTRAL', 'ENTAILMENT']\n",
    "print(classification_report(labels_total.numpy(),preds_total.argmax(dim=1).numpy(), target_names=target_names))"
   ]
  },
  {
   "cell_type": "code",
   "execution_count": 0,
   "metadata": {
    "colab": {},
    "colab_type": "code",
    "id": "xfM8cfmExtyS"
   },
   "outputs": [],
   "source": [
    "## Getting predictions on test set\n",
    "\n",
    "preds_test = variant(images_test.float())"
   ]
  },
  {
   "cell_type": "code",
   "execution_count": 0,
   "metadata": {
    "colab": {
     "base_uri": "https://localhost:8080/",
     "height": 187
    },
    "colab_type": "code",
    "id": "-kzvaw5wxp-T",
    "outputId": "90d4debd-ecd4-4be4-f611-17143b2e25a9"
   },
   "outputs": [
    {
     "name": "stdout",
     "output_type": "stream",
     "text": [
      "               precision    recall  f1-score   support\n",
      "\n",
      "CONTRADICTION       0.97      0.36      0.53       720\n",
      "      NEUTRAL       0.71      0.90      0.79      2793\n",
      "   ENTAILMENT       0.70      0.56      0.62      1414\n",
      "\n",
      "     accuracy                           0.72      4927\n",
      "    macro avg       0.79      0.61      0.65      4927\n",
      " weighted avg       0.75      0.72      0.71      4927\n",
      "\n"
     ]
    }
   ],
   "source": [
    "## Classification Report for Test set\n",
    "\n",
    "from sklearn.metrics import classification_report\n",
    "target_names = ['CONTRADICTION', 'NEUTRAL', 'ENTAILMENT']\n",
    "print(classification_report(labels_test.numpy(),preds_test.argmax(dim=1).numpy(), target_names=target_names))"
   ]
  },
  {
   "cell_type": "code",
   "execution_count": 0,
   "metadata": {
    "colab": {
     "base_uri": "https://localhost:8080/",
     "height": 265
    },
    "colab_type": "code",
    "id": "uCJqHcD73JvQ",
    "outputId": "6fe42099-8578-4615-f76b-e957a5ca2c60"
   },
   "outputs": [
    {
     "data": {
      "image/png": "[encoded data removed]",
      "text/plain": [
       "<Figure size 432x288 with 1 Axes>"
      ]
     },
     "metadata": {
      "tags": []
     },
     "output_type": "display_data"
    }
   ],
   "source": [
    "## Plot Showing the accuracy of validation and train set with respect to epochs \n",
    "for i in range(len(epoch)):\n",
    "  plt.plot(epoch,train_accuracy,'b')\n",
    "  plt.plot(epoch,val_accuracy,'r')"
   ]
  },
  {
   "cell_type": "code",
   "execution_count": 0,
   "metadata": {
    "colab": {
     "base_uri": "https://localhost:8080/",
     "height": 265
    },
    "colab_type": "code",
    "id": "7r7tCna74KZH",
    "outputId": "cc5654a2-77d1-400e-eb3c-38db85d2abfa"
   },
   "outputs": [
    {
     "data": {
      "image/png": "[encoded data removed]",
      "text/plain": [
       "<Figure size 432x288 with 1 Axes>"
      ]
     },
     "metadata": {
      "tags": []
     },
     "output_type": "display_data"
    }
   ],
   "source": [
    "## Plot showing loss of Validation and Train Sets with epochs \n",
    "\n",
    "for i in range(len(epoch)):\n",
    "  plt.plot(epoch,train_loss,'b')\n",
    "  plt.plot(epoch,val_loss,'r')"
   ]
  },
  {
   "cell_type": "code",
   "execution_count": 0,
   "metadata": {
    "colab": {},
    "colab_type": "code",
    "id": "hag5bK8X5Upk"
   },
   "outputs": [],
   "source": [
    "test_report_values = preds_test.argmax(dim=1).numpy()\n",
    "\n",
    "test_report_values = test_report_values.tolist()\n",
    "\n",
    "output_test_values = decode_class_labels(test_report_values)"
   ]
  },
  {
   "cell_type": "markdown",
   "metadata": {
    "colab_type": "text",
    "id": "7ZTLwcoVeKiY"
   },
   "source": [
    "MODEL - 2 : Batch size : 500 , lr = 0.01 , optim : ADAM\n"
   ]
  },
  {
   "cell_type": "code",
   "execution_count": 0,
   "metadata": {
    "colab": {},
    "colab_type": "code",
    "id": "q4JkEvns1NYt"
   },
   "outputs": [],
   "source": [
    "network = Network()\n",
    "torch.set_grad_enabled(True)\n",
    "\n",
    "optimizer = optim.Adam(network.parameters(),lr=0.01)"
   ]
  },
  {
   "cell_type": "code",
   "execution_count": 0,
   "metadata": {
    "colab": {
     "base_uri": "https://localhost:8080/",
     "height": 102
    },
    "colab_type": "code",
    "id": "XJ3wPjNlPIM_",
    "outputId": "9adb0118-1f41-4be1-9178-1fd1fd92642f"
   },
   "outputs": [
    {
     "data": {
      "text/plain": [
       "Parameter containing:\n",
       "tensor([[-0.0117, -0.0179,  0.0056,  ...,  0.0108, -0.0190, -0.0060],\n",
       "        [-0.0006, -0.0145,  0.0057,  ..., -0.0122,  0.0143, -0.0107],\n",
       "        [ 0.0196,  0.0080, -0.0165,  ..., -0.0024, -0.0068, -0.0018]],\n",
       "       requires_grad=True)"
      ]
     },
     "execution_count": 26,
     "metadata": {
      "tags": []
     },
     "output_type": "execute_result"
    }
   ],
   "source": [
    "network.out.weight"
   ]
  },
  {
   "cell_type": "code",
   "execution_count": 0,
   "metadata": {
    "colab": {
     "base_uri": "https://localhost:8080/",
     "height": 357
    },
    "colab_type": "code",
    "id": "B7TZVrBVCnbi",
    "outputId": "464cdba6-816a-4185-dca0-eac20ff97eab"
   },
   "outputs": [
    {
     "name": "stdout",
     "output_type": "stream",
     "text": [
      "epoch : 0 loss: 17.883699655532837\n",
      "epoch : 0 loss_val tensor(1.1273, grad_fn=<NllLossBackward>)\n",
      "epoch : 1 loss: 8.71108865737915\n",
      "epoch : 1 loss_val tensor(1.0293, grad_fn=<NllLossBackward>)\n",
      "epoch : 2 loss: 9.961841225624084\n",
      "epoch : 2 loss_val tensor(1.1528, grad_fn=<NllLossBackward>)\n",
      "epoch : 3 loss: 7.679422438144684\n",
      "epoch : 3 loss_val tensor(0.9003, grad_fn=<NllLossBackward>)\n",
      "epoch : 4 loss: 7.495889365673065\n",
      "epoch : 4 loss_val tensor(0.9569, grad_fn=<NllLossBackward>)\n",
      "epoch : 5 loss: 7.170769393444061\n",
      "epoch : 5 loss_val tensor(1.1383, grad_fn=<NllLossBackward>)\n",
      "epoch : 6 loss: 8.017626881599426\n",
      "epoch : 6 loss_val tensor(0.8922, grad_fn=<NllLossBackward>)\n",
      "epoch : 7 loss: 6.911933064460754\n",
      "epoch : 7 loss_val tensor(0.6624, grad_fn=<NllLossBackward>)\n",
      "epoch : 8 loss: 5.599253535270691\n",
      "epoch : 8 loss_val tensor(1.1837, grad_fn=<NllLossBackward>)\n",
      "epoch : 9 loss: 9.077141910791397\n",
      "epoch : 9 loss_val tensor(0.9703, grad_fn=<NllLossBackward>)\n"
     ]
    }
   ],
   "source": [
    "for batch_val in val_loader:\n",
    "  images_val,labels_val = batch_val\n",
    "\n",
    "for batch_test in test_loader:\n",
    "  images_test,labels_test = batch_test\n",
    "\n",
    "for batch_total in total_train_loader:\n",
    "  images_total,labels_total = batch_total\n",
    "\n",
    "\n",
    "for epoch in range(10):\n",
    "  total_loss = 0\n",
    "  loss_val = 0\n",
    "  for batch in train_loader:\n",
    "    images,labels = batch\n",
    "    preds = network(images.float())\n",
    "\n",
    "    loss = F.cross_entropy(preds,labels)\n",
    "    \n",
    "\n",
    "    optimizer.zero_grad()\n",
    "\n",
    "    loss.backward()\n",
    "    optimizer.step()\n",
    "\n",
    "    total_loss += loss.item()\n",
    "  preds_val = network(images_val.float())\n",
    "  loss_val = F.cross_entropy(preds_val,labels_val)\n",
    "  loss_val = loss_val.item()\n",
    "  print(\"epoch :\",epoch , \"loss:\",total_loss)\n",
    "  print(\"epoch :\",epoch , \"loss_val\",loss_val)"
   ]
  },
  {
   "cell_type": "code",
   "execution_count": 0,
   "metadata": {
    "colab": {
     "base_uri": "https://localhost:8080/",
     "height": 187
    },
    "colab_type": "code",
    "id": "t-A7UC1eSbzZ",
    "outputId": "93fab3f8-a978-454b-c459-ca040de57508"
   },
   "outputs": [
    {
     "name": "stdout",
     "output_type": "stream",
     "text": [
      "               precision    recall  f1-score   support\n",
      "\n",
      "CONTRADICTION       0.83      0.81      0.82        37\n",
      "      NEUTRAL       0.84      0.87      0.86       351\n",
      "   ENTAILMENT       0.58      0.51      0.54       112\n",
      "\n",
      "     accuracy                           0.79       500\n",
      "    macro avg       0.75      0.73      0.74       500\n",
      " weighted avg       0.78      0.79      0.78       500\n",
      "\n"
     ]
    }
   ],
   "source": [
    "## Batch Report\n",
    "\n",
    "from sklearn.metrics import classification_report\n",
    "target_names = ['CONTRADICTION', 'NEUTRAL', 'ENTAILMENT']\n",
    "print(classification_report(labels.numpy(),preds.argmax(dim=1).numpy(), target_names=target_names))"
   ]
  },
  {
   "cell_type": "code",
   "execution_count": 0,
   "metadata": {
    "colab": {
     "base_uri": "https://localhost:8080/",
     "height": 187
    },
    "colab_type": "code",
    "id": "TTLSbJn6TQWK",
    "outputId": "96645e8c-ecc8-4d9c-e00c-439c95b43e8f"
   },
   "outputs": [
    {
     "name": "stdout",
     "output_type": "stream",
     "text": [
      "               precision    recall  f1-score   support\n",
      "\n",
      "CONTRADICTION       0.93      0.57      0.71        74\n",
      "      NEUTRAL       0.63      0.98      0.77       282\n",
      "   ENTAILMENT       0.74      0.10      0.17       144\n",
      "\n",
      "     accuracy                           0.66       500\n",
      "    macro avg       0.77      0.55      0.55       500\n",
      " weighted avg       0.71      0.66      0.59       500\n",
      "\n"
     ]
    }
   ],
   "source": [
    "##validation report\n",
    "\n",
    "from sklearn.metrics import classification_report\n",
    "target_names = ['CONTRADICTION', 'NEUTRAL', 'ENTAILMENT']\n",
    "print(classification_report(labels_val.numpy(),preds_val.argmax(dim=1).numpy(), target_names=target_names))"
   ]
  },
  {
   "cell_type": "code",
   "execution_count": 0,
   "metadata": {
    "colab": {},
    "colab_type": "code",
    "id": "zxltlgVlh8Ef"
   },
   "outputs": [],
   "source": [
    "preds_total = network(images_total.float())\n",
    "preds_test = network(images_test.float())"
   ]
  },
  {
   "cell_type": "code",
   "execution_count": 0,
   "metadata": {
    "colab": {
     "base_uri": "https://localhost:8080/",
     "height": 187
    },
    "colab_type": "code",
    "id": "GsR50GppiESu",
    "outputId": "19dc295f-26c3-45d2-f0cc-c50e135321cd"
   },
   "outputs": [
    {
     "name": "stdout",
     "output_type": "stream",
     "text": [
      "               precision    recall  f1-score   support\n",
      "\n",
      "CONTRADICTION       0.89      0.64      0.75       665\n",
      "      NEUTRAL       0.64      0.98      0.77      2536\n",
      "   ENTAILMENT       0.78      0.09      0.16      1299\n",
      "\n",
      "     accuracy                           0.67      4500\n",
      "    macro avg       0.77      0.57      0.56      4500\n",
      " weighted avg       0.72      0.67      0.59      4500\n",
      "\n"
     ]
    }
   ],
   "source": [
    "##Train Report\n",
    "\n",
    "from sklearn.metrics import classification_report\n",
    "target_names = ['CONTRADICTION', 'NEUTRAL', 'ENTAILMENT']\n",
    "print(classification_report(labels_total.numpy(),preds_total.argmax(dim=1).numpy(), target_names=target_names))"
   ]
  },
  {
   "cell_type": "code",
   "execution_count": 0,
   "metadata": {
    "colab": {
     "base_uri": "https://localhost:8080/",
     "height": 187
    },
    "colab_type": "code",
    "id": "jhQbRonZVcY9",
    "outputId": "86860616-f839-4fda-8409-eb3f71d2706b"
   },
   "outputs": [
    {
     "name": "stdout",
     "output_type": "stream",
     "text": [
      "               precision    recall  f1-score   support\n",
      "\n",
      "CONTRADICTION       0.85      0.59      0.69       720\n",
      "      NEUTRAL       0.64      0.97      0.77      2793\n",
      "   ENTAILMENT       0.71      0.08      0.15      1414\n",
      "\n",
      "     accuracy                           0.66      4927\n",
      "    macro avg       0.73      0.55      0.54      4927\n",
      " weighted avg       0.69      0.66      0.58      4927\n",
      "\n"
     ]
    }
   ],
   "source": [
    "##Test Report\n",
    "\n",
    "from sklearn.metrics import classification_report\n",
    "target_names = ['CONTRADICTION', 'NEUTRAL', 'ENTAILMENT']\n",
    "print(classification_report(labels_test.numpy(),preds_test.argmax(dim=1).numpy(), target_names=target_names))"
   ]
  },
  {
   "cell_type": "markdown",
   "metadata": {
    "colab_type": "text",
    "id": "KzHqQS1yefM5"
   },
   "source": [
    "MODEL - 3 : Batch_size : 450 , lr = 0.01 , Epoch : 10 , Optimiser : Adam"
   ]
  },
  {
   "cell_type": "code",
   "execution_count": 0,
   "metadata": {
    "colab": {},
    "colab_type": "code",
    "id": "aa9JOgLwbAfI"
   },
   "outputs": [],
   "source": [
    "\n",
    "network3 = Network()\n",
    "torch.set_grad_enabled(True)\n",
    "\n",
    "optimizer = optim.Adam(network3.parameters(),lr=0.01)"
   ]
  },
  {
   "cell_type": "code",
   "execution_count": 0,
   "metadata": {
    "colab": {
     "base_uri": "https://localhost:8080/",
     "height": 136
    },
    "colab_type": "code",
    "id": "yduqZ_VobFoI",
    "outputId": "df04f836-2389-4f46-ae3a-3a8a9e25b0b1"
   },
   "outputs": [
    {
     "data": {
      "text/plain": [
       "Parameter containing:\n",
       "tensor([[ 1.5798e-02, -8.5288e-03,  2.8776e-03,  ...,  7.1720e-04,\n",
       "         -5.9858e-03,  1.5092e-03],\n",
       "        [ 1.6869e-02, -8.1383e-05,  2.0362e-02,  ...,  1.5685e-02,\n",
       "         -1.9940e-02, -2.0471e-02],\n",
       "        [-1.8806e-02, -4.5142e-03,  6.7065e-03,  ...,  3.1820e-04,\n",
       "         -4.2766e-03,  1.1295e-02]], requires_grad=True)"
      ]
     },
     "execution_count": 73,
     "metadata": {
      "tags": []
     },
     "output_type": "execute_result"
    }
   ],
   "source": [
    "network3.out.weight"
   ]
  },
  {
   "cell_type": "code",
   "execution_count": 0,
   "metadata": {
    "colab": {
     "base_uri": "https://localhost:8080/",
     "height": 357
    },
    "colab_type": "code",
    "id": "IVVk7Opma8Eu",
    "outputId": "ebaa62ad-ac17-42f9-a7f3-9246f411c5f3"
   },
   "outputs": [
    {
     "name": "stdout",
     "output_type": "stream",
     "text": [
      "epoch : 0 loss: 19.208307802677155\n",
      "epoch : 0 loss_val 1.3388372659683228\n",
      "epoch : 1 loss: 8.823934197425842\n",
      "epoch : 1 loss_val 0.8915795683860779\n",
      "epoch : 2 loss: 8.579093217849731\n",
      "epoch : 2 loss_val 1.1420402526855469\n",
      "epoch : 3 loss: 9.986639678478241\n",
      "epoch : 3 loss_val 1.0065624713897705\n",
      "epoch : 4 loss: 8.012901544570923\n",
      "epoch : 4 loss_val 0.8825651407241821\n",
      "epoch : 5 loss: 8.561456799507141\n",
      "epoch : 5 loss_val 0.8321762681007385\n",
      "epoch : 6 loss: 8.240012466907501\n",
      "epoch : 6 loss_val 0.8698725700378418\n",
      "epoch : 7 loss: 9.350363731384277\n",
      "epoch : 7 loss_val 1.5328618288040161\n",
      "epoch : 8 loss: 10.995227992534637\n",
      "epoch : 8 loss_val 1.0808160305023193\n",
      "epoch : 9 loss: 10.815921545028687\n",
      "epoch : 9 loss_val 0.7061193585395813\n"
     ]
    }
   ],
   "source": [
    "for batch_val in val_loader:\n",
    "  images_val,labels_val = batch_val\n",
    "\n",
    "for batch_test in test_loader:\n",
    "  images_test,labels_test = batch_test\n",
    "\n",
    "for batch_total in total_train_loader:\n",
    "  images_total,labels_total = batch_total\n",
    "\n",
    "for epoch in range(10):\n",
    "  total_loss = 0\n",
    "  loss_val = 0\n",
    "  for batch in train_loader:\n",
    "    images,labels = batch\n",
    "    preds = network3(images.float())\n",
    "\n",
    "    loss = F.cross_entropy(preds,labels)\n",
    "    \n",
    "\n",
    "    optimizer.zero_grad()\n",
    "\n",
    "    loss.backward()\n",
    "    optimizer.step()\n",
    "\n",
    "    total_loss += loss.item()\n",
    "  preds_val = network3(images_val.float())\n",
    "  loss_val = F.cross_entropy(preds_val,labels_val)\n",
    "  loss_val = loss_val.item()\n",
    "  print(\"epoch :\",epoch , \"loss:\",total_loss)\n",
    "  print(\"epoch :\",epoch , \"loss_val\",loss_val)"
   ]
  },
  {
   "cell_type": "code",
   "execution_count": 0,
   "metadata": {
    "colab": {
     "base_uri": "https://localhost:8080/",
     "height": 187
    },
    "colab_type": "code",
    "id": "d78pFzuQcSa6",
    "outputId": "23a0134c-503f-4eda-db21-9d826ecfbe14"
   },
   "outputs": [
    {
     "name": "stdout",
     "output_type": "stream",
     "text": [
      "               precision    recall  f1-score   support\n",
      "\n",
      "CONTRADICTION       0.84      0.74      0.79        35\n",
      "      NEUTRAL       0.80      0.91      0.85       317\n",
      "   ENTAILMENT       0.56      0.33      0.41        98\n",
      "\n",
      "     accuracy                           0.77       450\n",
      "    macro avg       0.73      0.66      0.68       450\n",
      " weighted avg       0.75      0.77      0.75       450\n",
      "\n"
     ]
    }
   ],
   "source": [
    "## Batch Report \n",
    "\n",
    "from sklearn.metrics import classification_report\n",
    "target_names = ['CONTRADICTION', 'NEUTRAL', 'ENTAILMENT']``\n",
    "print(classification_report(labels.numpy(),preds.argmax(dim=1).numpy(), target_names=target_names))"
   ]
  },
  {
   "cell_type": "code",
   "execution_count": 0,
   "metadata": {
    "colab": {},
    "colab_type": "code",
    "id": "6YoVNahAcnzT"
   },
   "outputs": [],
   "source": [
    "preds_total = network3(images_total.float())"
   ]
  },
  {
   "cell_type": "code",
   "execution_count": 0,
   "metadata": {
    "colab": {
     "base_uri": "https://localhost:8080/",
     "height": 187
    },
    "colab_type": "code",
    "id": "D9bVvi10cuRe",
    "outputId": "34f35188-5729-410b-c800-d3df515c56a8"
   },
   "outputs": [
    {
     "name": "stdout",
     "output_type": "stream",
     "text": [
      "               precision    recall  f1-score   support\n",
      "\n",
      "CONTRADICTION       0.69      0.90      0.78       665\n",
      "      NEUTRAL       0.80      0.79      0.79      2536\n",
      "   ENTAILMENT       0.69      0.59      0.64      1299\n",
      "\n",
      "     accuracy                           0.75      4500\n",
      "    macro avg       0.73      0.76      0.74      4500\n",
      " weighted avg       0.75      0.75      0.75      4500\n",
      "\n"
     ]
    }
   ],
   "source": [
    "## Train Report\n",
    "\n",
    "from sklearn.metrics import classification_report\n",
    "target_names = ['CONTRADICTION', 'NEUTRAL', 'ENTAILMENT']\n",
    "print(classification_report(labels_total.numpy(),preds_total.argmax(dim=1).numpy(), target_names=target_names))"
   ]
  },
  {
   "cell_type": "code",
   "execution_count": 0,
   "metadata": {
    "colab": {
     "base_uri": "https://localhost:8080/",
     "height": 187
    },
    "colab_type": "code",
    "id": "Gpg7QqJIc2lf",
    "outputId": "c3cf9136-a10e-41b6-ceeb-eb3a5efeda9c"
   },
   "outputs": [
    {
     "name": "stdout",
     "output_type": "stream",
     "text": [
      "               precision    recall  f1-score   support\n",
      "\n",
      "CONTRADICTION       0.64      0.82      0.72        74\n",
      "      NEUTRAL       0.79      0.80      0.79       282\n",
      "   ENTAILMENT       0.69      0.56      0.62       144\n",
      "\n",
      "     accuracy                           0.74       500\n",
      "    macro avg       0.71      0.73      0.71       500\n",
      " weighted avg       0.74      0.74      0.73       500\n",
      "\n"
     ]
    }
   ],
   "source": [
    "## Validation Report\n",
    "\n",
    "from sklearn.metrics import classification_report\n",
    "target_names = ['CONTRADICTION', 'NEUTRAL', 'ENTAILMENT']\n",
    "print(classification_report(labels_val.numpy(),preds_val.argmax(dim=1).numpy(), target_names=target_names))"
   ]
  },
  {
   "cell_type": "code",
   "execution_count": 0,
   "metadata": {
    "colab": {},
    "colab_type": "code",
    "id": "sLisxfdyc3Zs"
   },
   "outputs": [],
   "source": [
    "preds_test = network3(images_test.float())"
   ]
  },
  {
   "cell_type": "code",
   "execution_count": 0,
   "metadata": {
    "colab": {
     "base_uri": "https://localhost:8080/",
     "height": 187
    },
    "colab_type": "code",
    "id": "7kfXqrrJdKtI",
    "outputId": "1eb5798c-424d-402a-cd20-bcd4debec9f9"
   },
   "outputs": [
    {
     "name": "stdout",
     "output_type": "stream",
     "text": [
      "               precision    recall  f1-score   support\n",
      "\n",
      "CONTRADICTION       0.66      0.85      0.74       720\n",
      "      NEUTRAL       0.78      0.78      0.78      2793\n",
      "   ENTAILMENT       0.65      0.55      0.60      1414\n",
      "\n",
      "     accuracy                           0.73      4927\n",
      "    macro avg       0.70      0.73      0.71      4927\n",
      " weighted avg       0.73      0.73      0.73      4927\n",
      "\n"
     ]
    }
   ],
   "source": [
    "## Test Report\n",
    "\n",
    "\n",
    "from sklearn.metrics import classification_report\n",
    "target_names = ['CONTRADICTION', 'NEUTRAL', 'ENTAILMENT']\n",
    "print(classification_report(labels_test.numpy(),preds_test.argmax(dim=1).numpy(), target_names=target_names))"
   ]
  },
  {
   "cell_type": "markdown",
   "metadata": {
    "colab_type": "text",
    "id": "zYwL7h_pjGeC"
   },
   "source": [
    "MODEL - 4 : Optim : SGD , Batch_Size : 450 , lr = 0.01 , Epoch : 20"
   ]
  },
  {
   "cell_type": "code",
   "execution_count": 0,
   "metadata": {
    "colab": {},
    "colab_type": "code",
    "id": "i9fXLjeKe4_g"
   },
   "outputs": [],
   "source": [
    "network4 = Network()\n",
    "\n",
    "torch.set_grad_enabled(True)\n",
    "\n",
    "optimizer = optim.SGD(network4.parameters(),lr=0.01)"
   ]
  },
  {
   "cell_type": "code",
   "execution_count": 0,
   "metadata": {
    "colab": {
     "base_uri": "https://localhost:8080/",
     "height": 697
    },
    "colab_type": "code",
    "id": "X2G1lxYlfms6",
    "outputId": "ad3b931a-30fb-4607-e279-981a935114b8"
   },
   "outputs": [
    {
     "name": "stdout",
     "output_type": "stream",
     "text": [
      "epoch : 0 loss: 9.640519738197327\n",
      "epoch : 0 loss_val 0.9535475969314575\n",
      "epoch : 1 loss: 9.307648420333862\n",
      "epoch : 1 loss_val 0.9348976612091064\n",
      "epoch : 2 loss: 9.131895005702972\n",
      "epoch : 2 loss_val 0.9174870848655701\n",
      "epoch : 3 loss: 8.970506250858307\n",
      "epoch : 3 loss_val 0.9014794826507568\n",
      "epoch : 4 loss: 8.822626173496246\n",
      "epoch : 4 loss_val 0.8867390155792236\n",
      "epoch : 5 loss: 8.686763644218445\n",
      "epoch : 5 loss_val 0.8731305003166199\n",
      "epoch : 6 loss: 8.561583340168\n",
      "epoch : 6 loss_val 0.8605356216430664\n",
      "epoch : 7 loss: 8.445911943912506\n",
      "epoch : 7 loss_val 0.8488492965698242\n",
      "epoch : 8 loss: 8.338719308376312\n",
      "epoch : 8 loss_val 0.8379791975021362\n",
      "epoch : 9 loss: 8.239106893539429\n",
      "epoch : 9 loss_val 0.8278439044952393\n",
      "epoch : 10 loss: 8.146288275718689\n",
      "epoch : 10 loss_val 0.8183720111846924\n",
      "epoch : 11 loss: 8.059570968151093\n",
      "epoch : 11 loss_val 0.809499979019165\n",
      "epoch : 12 loss: 7.978349387645721\n",
      "epoch : 12 loss_val 0.8011719584465027\n",
      "epoch : 13 loss: 7.902089715003967\n",
      "epoch : 13 loss_val 0.7933380007743835\n",
      "epoch : 14 loss: 7.830318093299866\n",
      "epoch : 14 loss_val 0.785954475402832\n",
      "epoch : 15 loss: 7.762623727321625\n",
      "epoch : 15 loss_val 0.7789818644523621\n",
      "epoch : 16 loss: 7.698635041713715\n",
      "epoch : 16 loss_val 0.772386372089386\n",
      "epoch : 17 loss: 7.638029098510742\n",
      "epoch : 17 loss_val 0.7661352753639221\n",
      "epoch : 18 loss: 7.580514907836914\n",
      "epoch : 18 loss_val 0.7602013349533081\n",
      "epoch : 19 loss: 7.525832712650299\n",
      "epoch : 19 loss_val 0.7545599341392517\n"
     ]
    }
   ],
   "source": [
    "for batch_val in val_loader:\n",
    "  images_val,labels_val = batch_val\n",
    "\n",
    "for batch_test in test_loader:\n",
    "  images_test,labels_test = batch_test\n",
    "\n",
    "for batch_total in total_train_loader:\n",
    "  images_total,labels_total = batch_total\n",
    "\n",
    "for epoch in range(20):\n",
    "  total_loss = 0\n",
    "  loss_val = 0\n",
    "  for batch in train_loader:\n",
    "    images,labels = batch\n",
    "    preds = network4(images.float())\n",
    "\n",
    "    loss = F.cross_entropy(preds,labels)\n",
    "    \n",
    "\n",
    "    optimizer.zero_grad()\n",
    "\n",
    "    loss.backward()\n",
    "    optimizer.step()\n",
    "\n",
    "    total_loss += loss.item()\n",
    "  preds_val = network4(images_val.float())\n",
    "  loss_val = F.cross_entropy(preds_val,labels_val)\n",
    "  loss_val = loss_val.item()\n",
    "  print(\"epoch :\",epoch , \"loss:\",total_loss)\n",
    "  print(\"epoch :\",epoch , \"loss_val\",loss_val)"
   ]
  },
  {
   "cell_type": "code",
   "execution_count": 0,
   "metadata": {
    "colab": {
     "base_uri": "https://localhost:8080/",
     "height": 187
    },
    "colab_type": "code",
    "id": "72PhAJ22gS9d",
    "outputId": "571152e7-456a-406a-9fdc-59831dca5dc4"
   },
   "outputs": [
    {
     "name": "stdout",
     "output_type": "stream",
     "text": [
      "               precision    recall  f1-score   support\n",
      "\n",
      "CONTRADICTION       0.00      0.00      0.00        35\n",
      "      NEUTRAL       0.75      0.91      0.82       317\n",
      "   ENTAILMENT       0.48      0.31      0.37        98\n",
      "\n",
      "     accuracy                           0.71       450\n",
      "    macro avg       0.41      0.40      0.40       450\n",
      " weighted avg       0.63      0.71      0.66       450\n",
      "\n"
     ]
    }
   ],
   "source": [
    "## Batch Report \n",
    "\n",
    "from sklearn.metrics import classification_report\n",
    "target_names = ['CONTRADICTION', 'NEUTRAL', 'ENTAILMENT']\n",
    "print(classification_report(labels.numpy(),preds.argmax(dim=1).numpy(), target_names=target_names))"
   ]
  },
  {
   "cell_type": "code",
   "execution_count": 0,
   "metadata": {
    "colab": {},
    "colab_type": "code",
    "id": "dnGMAm1XgjjB"
   },
   "outputs": [],
   "source": [
    "preds_total = network4(images_total.float())"
   ]
  },
  {
   "cell_type": "code",
   "execution_count": 0,
   "metadata": {
    "colab": {
     "base_uri": "https://localhost:8080/",
     "height": 187
    },
    "colab_type": "code",
    "id": "ykH847ErgqVI",
    "outputId": "917cdc65-fad7-40ae-85cb-1d7ea599faa6"
   },
   "outputs": [
    {
     "name": "stdout",
     "output_type": "stream",
     "text": [
      "               precision    recall  f1-score   support\n",
      "\n",
      "CONTRADICTION       0.95      0.06      0.11       665\n",
      "      NEUTRAL       0.59      0.96      0.73      2536\n",
      "   ENTAILMENT       0.66      0.19      0.29      1299\n",
      "\n",
      "     accuracy                           0.60      4500\n",
      "    macro avg       0.73      0.40      0.38      4500\n",
      " weighted avg       0.67      0.60      0.51      4500\n",
      "\n"
     ]
    }
   ],
   "source": [
    "## Train Report\n",
    "\n",
    "from sklearn.metrics import classification_report\n",
    "target_names = ['CONTRADICTION', 'NEUTRAL', 'ENTAILMENT']\n",
    "print(classification_report(labels_total.numpy(),preds_total.argmax(dim=1).numpy(), target_names=target_names))"
   ]
  },
  {
   "cell_type": "code",
   "execution_count": 0,
   "metadata": {
    "colab": {
     "base_uri": "https://localhost:8080/",
     "height": 187
    },
    "colab_type": "code",
    "id": "Xo4JECBIg2SI",
    "outputId": "73370d71-0ab0-43f6-c802-6205b5275f7e"
   },
   "outputs": [
    {
     "name": "stdout",
     "output_type": "stream",
     "text": [
      "               precision    recall  f1-score   support\n",
      "\n",
      "CONTRADICTION       1.00      0.03      0.05        74\n",
      "      NEUTRAL       0.59      0.95      0.73       282\n",
      "   ENTAILMENT       0.60      0.17      0.27       144\n",
      "\n",
      "     accuracy                           0.59       500\n",
      "    macro avg       0.73      0.38      0.35       500\n",
      " weighted avg       0.65      0.59      0.50       500\n",
      "\n"
     ]
    }
   ],
   "source": [
    "## Validation Report\n",
    "\n",
    "from sklearn.metrics import classification_report\n",
    "target_names = ['CONTRADICTION', 'NEUTRAL', 'ENTAILMENT']\n",
    "print(classification_report(labels_val.numpy(),preds_val.argmax(dim=1).numpy(), target_names=target_names))"
   ]
  },
  {
   "cell_type": "code",
   "execution_count": 0,
   "metadata": {
    "colab": {},
    "colab_type": "code",
    "id": "hFdZYd-shMeA"
   },
   "outputs": [],
   "source": [
    "preds_test = network4(images_test.float())"
   ]
  },
  {
   "cell_type": "code",
   "execution_count": 0,
   "metadata": {
    "colab": {
     "base_uri": "https://localhost:8080/",
     "height": 187
    },
    "colab_type": "code",
    "id": "sk3J7XVMhWX3",
    "outputId": "c355d168-6aef-4efe-831b-f3ba92ca218d"
   },
   "outputs": [
    {
     "name": "stdout",
     "output_type": "stream",
     "text": [
      "               precision    recall  f1-score   support\n",
      "\n",
      "CONTRADICTION       0.90      0.05      0.09       720\n",
      "      NEUTRAL       0.59      0.96      0.73      2793\n",
      "   ENTAILMENT       0.63      0.17      0.27      1414\n",
      "\n",
      "     accuracy                           0.60      4927\n",
      "    macro avg       0.71      0.39      0.37      4927\n",
      " weighted avg       0.65      0.60      0.51      4927\n",
      "\n"
     ]
    }
   ],
   "source": [
    "## Test Report\n",
    "\n",
    "from sklearn.metrics import classification_report\n",
    "target_names = ['CONTRADICTION', 'NEUTRAL', 'ENTAILMENT']\n",
    "print(classification_report(labels_test.numpy(),preds_test.argmax(dim=1).numpy(), target_names=target_names))"
   ]
  },
  {
   "cell_type": "markdown",
   "metadata": {
    "colab_type": "text",
    "id": "sJriwPsGkY1j"
   },
   "source": [
    "Model 5 : Optim : Adam , lr = 0.001 , Epoch : 20 , Batch_size : 300\n",
    "\n",
    "BEST MODEL"
   ]
  },
  {
   "cell_type": "code",
   "execution_count": 0,
   "metadata": {
    "colab": {},
    "colab_type": "code",
    "id": "qatzkjGF_HGV"
   },
   "outputs": [],
   "source": [
    "##Instance of Model\n",
    "\n",
    "variant1 = Network()\n",
    "\n",
    "torch.set_grad_enabled(True)\n",
    "\n",
    "optimizer = optim.Adam(variant1.parameters(),lr=0.001)"
   ]
  },
  {
   "cell_type": "code",
   "execution_count": 0,
   "metadata": {
    "colab": {
     "base_uri": "https://localhost:8080/",
     "height": 1000
    },
    "colab_type": "code",
    "id": "zi14ArMSMTw1",
    "outputId": "17ff5f3f-7fc2-46aa-f175-f8dd36c1cf90"
   },
   "outputs": [
    {
     "name": "stdout",
     "output_type": "stream",
     "text": [
      "saved model now\n",
      "epoch:  0 loss:  12.320497274398804\n",
      "epoch:  0 loss_val:  0.8457674384117126\n",
      "epoch:  0 train_accuracy:  0.7466666666666667\n",
      "epoch:  0 val_accuracy:  0.564\n",
      "saved model now\n",
      "epoch:  1 loss:  11.77094852924347\n",
      "epoch:  1 loss_val:  0.7303366661071777\n",
      "epoch:  1 train_accuracy:  0.7566666666666667\n",
      "epoch:  1 val_accuracy:  0.594\n",
      "saved model now\n",
      "epoch:  2 loss:  11.418172299861908\n",
      "epoch:  2 loss_val:  0.6947782039642334\n",
      "epoch:  2 train_accuracy:  0.7366666666666667\n",
      "epoch:  2 val_accuracy:  0.738\n",
      "epoch:  3 loss:  10.399484097957611\n",
      "epoch:  3 loss_val:  0.6869077682495117\n",
      "epoch:  3 train_accuracy:  0.75\n",
      "epoch:  3 val_accuracy:  0.73\n",
      "saved model now\n",
      "epoch:  4 loss:  10.00487071275711\n",
      "epoch:  4 loss_val:  0.6245430111885071\n",
      "epoch:  4 train_accuracy:  0.7766666666666666\n",
      "epoch:  4 val_accuracy:  0.748\n",
      "saved model now\n",
      "epoch:  5 loss:  9.278306782245636\n",
      "epoch:  5 loss_val:  0.6122738122940063\n",
      "epoch:  5 train_accuracy:  0.7866666666666666\n",
      "epoch:  5 val_accuracy:  0.756\n",
      "saved model now\n",
      "epoch:  6 loss:  9.100148528814316\n",
      "epoch:  6 loss_val:  0.5995842814445496\n",
      "epoch:  6 train_accuracy:  0.7866666666666666\n",
      "epoch:  6 val_accuracy:  0.76\n",
      "epoch:  7 loss:  9.000376135110855\n",
      "epoch:  7 loss_val:  0.5923044085502625\n",
      "epoch:  7 train_accuracy:  0.79\n",
      "epoch:  7 val_accuracy:  0.756\n",
      "epoch:  8 loss:  8.810217201709747\n",
      "epoch:  8 loss_val:  0.5940618515014648\n",
      "epoch:  8 train_accuracy:  0.7966666666666666\n",
      "epoch:  8 val_accuracy:  0.752\n",
      "epoch:  9 loss:  8.662142813205719\n",
      "epoch:  9 loss_val:  0.5832165479660034\n",
      "epoch:  9 train_accuracy:  0.7966666666666666\n",
      "epoch:  9 val_accuracy:  0.76\n",
      "saved model now\n",
      "epoch:  10 loss:  8.446675598621368\n",
      "epoch:  10 loss_val:  0.5696667432785034\n",
      "epoch:  10 train_accuracy:  0.8033333333333333\n",
      "epoch:  10 val_accuracy:  0.762\n",
      "saved model now\n",
      "epoch:  11 loss:  8.252908498048782\n",
      "epoch:  11 loss_val:  0.5621664524078369\n",
      "epoch:  11 train_accuracy:  0.81\n",
      "epoch:  11 val_accuracy:  0.774\n",
      "epoch:  12 loss:  8.150789141654968\n",
      "epoch:  12 loss_val:  0.5569159388542175\n",
      "epoch:  12 train_accuracy:  0.8166666666666667\n",
      "epoch:  12 val_accuracy:  0.77\n",
      "epoch:  13 loss:  8.067048817873001\n",
      "epoch:  13 loss_val:  0.5548310875892639\n",
      "epoch:  13 train_accuracy:  0.8266666666666667\n",
      "epoch:  13 val_accuracy:  0.758\n",
      "epoch:  14 loss:  7.982376784086227\n",
      "epoch:  14 loss_val:  0.554565966129303\n",
      "epoch:  14 train_accuracy:  0.8266666666666667\n",
      "epoch:  14 val_accuracy:  0.768\n",
      "epoch:  15 loss:  7.896090745925903\n",
      "epoch:  15 loss_val:  0.5515913367271423\n",
      "epoch:  15 train_accuracy:  0.83\n",
      "epoch:  15 val_accuracy:  0.77\n",
      "epoch:  16 loss:  7.792808175086975\n",
      "epoch:  16 loss_val:  0.5463822484016418\n",
      "epoch:  16 train_accuracy:  0.83\n",
      "epoch:  16 val_accuracy:  0.768\n",
      "epoch:  17 loss:  7.686880260705948\n",
      "epoch:  17 loss_val:  0.5416871905326843\n",
      "epoch:  17 train_accuracy:  0.8366666666666667\n",
      "epoch:  17 val_accuracy:  0.772\n",
      "saved model now\n",
      "epoch:  18 loss:  7.598075240850449\n",
      "epoch:  18 loss_val:  0.5383805632591248\n",
      "epoch:  18 train_accuracy:  0.8366666666666667\n",
      "epoch:  18 val_accuracy:  0.776\n",
      "saved model now\n",
      "epoch:  19 loss:  7.525513023138046\n",
      "epoch:  19 loss_val:  0.5362436175346375\n",
      "epoch:  19 train_accuracy:  0.8333333333333334\n",
      "epoch:  19 val_accuracy:  0.782\n"
     ]
    }
   ],
   "source": [
    "# Training loop :\n",
    "\n",
    "for batch_val in val_loader:\n",
    "  images_val,labels_val = batch_val\n",
    "\n",
    "for batch_test in test_loader:\n",
    "  images_test,labels_test = batch_test\n",
    "\n",
    "for batch_total in total_train_loader:\n",
    "  images_total,labels_total = batch_total\n",
    "\n",
    "train_loss = []\n",
    "val_loss = []\n",
    "train_accuracy = []\n",
    "val_accuracy = []\n",
    "max_acc_val = 0\n",
    "for epoch in range(20):\n",
    "  total_loss = 0\n",
    "  loss_val = 0\n",
    "  for batch in train_loader:\n",
    "    images,labels = batch\n",
    "    preds = variant1(images.float())\n",
    "\n",
    "    loss = F.cross_entropy(preds,labels)\n",
    "    \n",
    "\n",
    "    optimizer.zero_grad()\n",
    "\n",
    "    loss.backward()\n",
    "    optimizer.step()\n",
    "\n",
    "    total_loss += loss.item()\n",
    "  preds_val = variant1(images_val.float())\n",
    "  loss_val = F.cross_entropy(preds_val,labels_val)\n",
    "  loss_val = loss_val.item()\n",
    "  train_loss.append(total_loss)\n",
    "  val_loss.append(loss_val)\n",
    "  train_acc = preds.argmax(dim=1).eq(labels).sum().item()/len(images)\n",
    "  train_accuracy.append(train_acc)\n",
    "  val_acc = preds_val.argmax(dim=1).eq(labels_val).sum().item()/len(images_val)\n",
    "  val_accuracy.append(val_acc)\n",
    "  if val_acc > max_acc_val:\n",
    "    max_acc_val = val_acc\n",
    "    torch.save(variant1.state_dict(), \"/content/best_variant_model.pt\")\n",
    "    print(\"saved model now\")\n",
    "  print(\"epoch: \",epoch , \"loss: \",total_loss)\n",
    "  print(\"epoch: \",epoch , \"loss_val: \",loss_val)\n",
    "  print(\"epoch: \",epoch , \"train_accuracy: \",train_acc)\n",
    "  print(\"epoch: \",epoch , \"val_accuracy: \",val_acc)"
   ]
  },
  {
   "cell_type": "code",
   "execution_count": 0,
   "metadata": {
    "colab": {},
    "colab_type": "code",
    "id": "U92pIX0KOOzq"
   },
   "outputs": [],
   "source": [
    "preds_total = variant1(images_total.float())"
   ]
  },
  {
   "cell_type": "code",
   "execution_count": 0,
   "metadata": {
    "colab": {
     "base_uri": "https://localhost:8080/",
     "height": 187
    },
    "colab_type": "code",
    "id": "mvYeetEkOWDP",
    "outputId": "09183d21-2d9c-4b28-8cb0-3f66243b3c21"
   },
   "outputs": [
    {
     "name": "stdout",
     "output_type": "stream",
     "text": [
      "               precision    recall  f1-score   support\n",
      "\n",
      "CONTRADICTION       0.87      0.83      0.85       665\n",
      "      NEUTRAL       0.84      0.82      0.83      2536\n",
      "   ENTAILMENT       0.70      0.75      0.72      1299\n",
      "\n",
      "     accuracy                           0.80      4500\n",
      "    macro avg       0.80      0.80      0.80      4500\n",
      " weighted avg       0.80      0.80      0.80      4500\n",
      "\n"
     ]
    }
   ],
   "source": [
    "## Train Report\n",
    "\n",
    "from sklearn.metrics import classification_report\n",
    "target_names = ['CONTRADICTION', 'NEUTRAL', 'ENTAILMENT']\n",
    "print(classification_report(labels_total.numpy(),preds_total.argmax(dim=1).numpy(), target_names=target_names))"
   ]
  },
  {
   "cell_type": "code",
   "execution_count": 0,
   "metadata": {
    "colab": {},
    "colab_type": "code",
    "id": "JiSTcQXVOi1-"
   },
   "outputs": [],
   "source": [
    "preds_test = variant1(images_test.float())"
   ]
  },
  {
   "cell_type": "code",
   "execution_count": 0,
   "metadata": {
    "colab": {
     "base_uri": "https://localhost:8080/",
     "height": 187
    },
    "colab_type": "code",
    "id": "c8pc0yypOoNj",
    "outputId": "7d6ef8b9-d9f1-4dbf-f8f7-f6178cdee072"
   },
   "outputs": [
    {
     "name": "stdout",
     "output_type": "stream",
     "text": [
      "               precision    recall  f1-score   support\n",
      "\n",
      "CONTRADICTION       0.85      0.76      0.80       720\n",
      "      NEUTRAL       0.81      0.80      0.81      2793\n",
      "   ENTAILMENT       0.66      0.70      0.68      1414\n",
      "\n",
      "     accuracy                           0.77      4927\n",
      "    macro avg       0.77      0.76      0.76      4927\n",
      " weighted avg       0.77      0.77      0.77      4927\n",
      "\n"
     ]
    }
   ],
   "source": [
    "## Test Report\n",
    "\n",
    "from sklearn.metrics import classification_report\n",
    "target_names = ['CONTRADICTION', 'NEUTRAL', 'ENTAILMENT']\n",
    "print(classification_report(labels_test.numpy(),preds_test.argmax(dim=1).numpy(), target_names=target_names))"
   ]
  },
  {
   "cell_type": "code",
   "execution_count": 0,
   "metadata": {
    "colab": {
     "base_uri": "https://localhost:8080/",
     "height": 187
    },
    "colab_type": "code",
    "id": "QVsro55OPI2S",
    "outputId": "1a5fe994-e974-47e0-8d26-22ba6ffc18d2"
   },
   "outputs": [
    {
     "name": "stdout",
     "output_type": "stream",
     "text": [
      "               precision    recall  f1-score   support\n",
      "\n",
      "CONTRADICTION       0.88      0.76      0.81        74\n",
      "      NEUTRAL       0.82      0.82      0.82       282\n",
      "   ENTAILMENT       0.68      0.72      0.70       144\n",
      "\n",
      "     accuracy                           0.78       500\n",
      "    macro avg       0.79      0.77      0.78       500\n",
      " weighted avg       0.79      0.78      0.78       500\n",
      "\n"
     ]
    }
   ],
   "source": [
    "## Validation Report\n",
    "\n",
    "from sklearn.metrics import classification_report\n",
    "target_names = ['CONTRADICTION', 'NEUTRAL', 'ENTAILMENT']\n",
    "print(classification_report(labels_val.numpy(),preds_val.argmax(dim=1).numpy(), target_names=target_names))"
   ]
  },
  {
   "cell_type": "code",
   "execution_count": 0,
   "metadata": {
    "colab": {
     "base_uri": "https://localhost:8080/",
     "height": 269
    },
    "colab_type": "code",
    "id": "N7cAsnehQEGt",
    "outputId": "c8655da2-32db-4f81-a554-98bc4cefe0e3"
   },
   "outputs": [
    {
     "data": {
      "image/png": "[encoded data removed]",
      "text/plain": [
       "<Figure size 432x288 with 1 Axes>"
      ]
     },
     "metadata": {
      "tags": []
     },
     "output_type": "display_data"
    }
   ],
   "source": [
    "## Accuracy of train and val with Epoch\n",
    "\n",
    "for i in range(len(epoch)):\n",
    "  plt.plot(epoch,train_accuracy,'b')\n",
    "  plt.plot(epoch,val_accuracy,'r')"
   ]
  },
  {
   "cell_type": "code",
   "execution_count": 0,
   "metadata": {
    "colab": {
     "base_uri": "https://localhost:8080/",
     "height": 265
    },
    "colab_type": "code",
    "id": "MtTDmqm6Qj3U",
    "outputId": "78aab5e7-da85-4590-e427-39572fe03660"
   },
   "outputs": [
    {
     "data": {
      "image/png": "[encoded data removed]",
      "text/plain": [
       "<Figure size 432x288 with 1 Axes>"
      ]
     },
     "metadata": {
      "tags": []
     },
     "output_type": "display_data"
    }
   ],
   "source": [
    "## Loss of train and val with epoch\n",
    "\n",
    "for i in range(len(epoch)):\n",
    "  plt.plot(epoch,train_loss,'b')\n",
    "  plt.plot(epoch,val_loss,'r')"
   ]
  },
  {
   "cell_type": "code",
   "execution_count": 0,
   "metadata": {
    "colab": {},
    "colab_type": "code",
    "id": "kTI3uUajO6hN"
   },
   "outputs": [],
   "source": [
    "## Save Model\n",
    "\n",
    "torch.save(variant1.state_dict(), \"/content/bestofall_variant_model.pt\")"
   ]
  },
  {
   "cell_type": "code",
   "execution_count": 0,
   "metadata": {
    "colab": {},
    "colab_type": "code",
    "id": "R5R44hjLPSMm"
   },
   "outputs": [],
   "source": [
    "final_model = preds_test.argmax(dim=1).numpy().tolist()\n",
    "final_model = decode_class_labels(final_model)"
   ]
  },
  {
   "cell_type": "code",
   "execution_count": 0,
   "metadata": {
    "colab": {},
    "colab_type": "code",
    "id": "8ZBlrTogc7NN"
   },
   "outputs": [],
   "source": [
    "##Helper to load and save pytorch models\n",
    "\n",
    "\"\"\"if total_loss_val < temp:\n",
    "    temp = total_loss_val\n",
    "    torch.save(network.state_dict(), \"/content/best_model.pt\")\n",
    "    print(\"saved model now\")\n",
    "\n",
    "network.load_state_dict(torch.load(\"/content/best_model.pt\"))\n",
    "network.eval()\"\"\""
   ]
  }
 ],
 "metadata": {
  "colab": {
   "collapsed_sections": [],
   "name": "SBERT_TASK-1.ipynb",
   "provenance": [],
   "toc_visible": true
  },
  "kernelspec": {
   "display_name": "Python 3",
   "language": "python",
   "name": "python3"
  },
  "language_info": {
   "codemirror_mode": {
    "name": "ipython",
    "version": 3
   },
   "file_extension": ".py",
   "mimetype": "text/x-python",
   "name": "python",
   "nbconvert_exporter": "python",
   "pygments_lexer": "ipython3",
   "version": "3.7.0"
  }
 },
 "nbformat": 4,
 "nbformat_minor": 1
}
